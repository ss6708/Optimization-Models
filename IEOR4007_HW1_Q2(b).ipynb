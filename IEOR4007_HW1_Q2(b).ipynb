{
  "nbformat": 4,
  "nbformat_minor": 0,
  "metadata": {
    "colab": {
      "provenance": []
    },
    "kernelspec": {
      "name": "python3",
      "display_name": "Python 3"
    },
    "language_info": {
      "name": "python"
    }
  },
  "cells": [
    {
      "cell_type": "code",
      "execution_count": 1,
      "metadata": {
        "colab": {
          "base_uri": "https://localhost:8080/"
        },
        "id": "V0bAJZhACc1K",
        "outputId": "9b88116e-dc1f-4b03-db6b-154541a520cd"
      },
      "outputs": [
        {
          "output_type": "stream",
          "name": "stdout",
          "text": [
            "Optimal Values Found\n",
            "u1 9.671712278023734e-10 v1 9.674233270317648e-10\n",
            "u2 1.136861374146962e-09 v2 1.1556664856290975e-09\n",
            "u3 1.154435086570748e-09 v3 1.135881252012205e-09\n"
          ]
        }
      ],
      "source": [
        "# IEOR 4007: Homework 1\n",
        "# Question 2\n",
        "\n",
        "# (b)\n",
        "\n",
        "import cvxpy as cvx\n",
        "\n",
        "# Variables\n",
        "u = cvx.Variable(3, nonneg=True)\n",
        "v = cvx.Variable(3, nonneg=True)\n",
        "\n",
        "# Constraints\n",
        "constraints = [103.4375 * (u[0] - v[0]) + 2.75 * (u[1] - v[1]) + 3.875 * (u[2] - v[2]) >= 0,\n",
        "        102.75 * (u[1] - v[1]) + 103.875 * (u[2] - v[2]) >= 0,\n",
        "        u <= 1,\n",
        "        u >= 0,\n",
        "        v <= 1,\n",
        "        v >= 0\n",
        "]\n",
        "\n",
        "# Objective Function\n",
        "objective = cvx.Maximize(-101.6563 * u[0] + 101.5938 * v[0] - 101.5938 * u[1] + 101.5313 * v[1] - 103.7813 * u[2] + 103.7188 * v[2])\n",
        "\n",
        "# Solving\n",
        "problem = cvx.Problem(objective, constraints)\n",
        "problem.solve()\n",
        "\n",
        "if problem.status == cvx.OPTIMAL:\n",
        "    print(\"Optimal Values Found\")\n",
        "    print(\"u1\", u[0].value, \"v1\", v[0].value)\n",
        "    print(\"u2\", u[1].value, \"v2\", v[1].value)\n",
        "    print(\"u3\", u[2].value, \"v3\", v[2].value)"
      ]
    }
  ]
}