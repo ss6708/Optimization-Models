{
  "nbformat": 4,
  "nbformat_minor": 0,
  "metadata": {
    "colab": {
      "provenance": []
    },
    "kernelspec": {
      "name": "python3",
      "display_name": "Python 3"
    },
    "language_info": {
      "name": "python"
    }
  },
  "cells": [
    {
      "cell_type": "code",
      "execution_count": 1,
      "metadata": {
        "colab": {
          "base_uri": "https://localhost:8080/"
        },
        "id": "vXwGZ4RPiBEl",
        "outputId": "b450186a-ff3b-4553-a795-87d1fc8e2371"
      },
      "outputs": [
        {
          "output_type": "stream",
          "name": "stdout",
          "text": [
            "Optimal Values Found\n",
            "Maximized Wealth (Q9): 471.5631327182047\n",
            "long-term loan Value (Q1): [399.80972289]\n",
            "Quarterly loan Values (Q1-8): [3.57821783e-05 5.96104032e-05 9.99998594e+01 3.61510908e-05\n",
            " 3.61219552e-05 3.39673057e-05 1.88054789e-04 3.20365709e-05]\n",
            "Six-month loan Values (Q1-7): [3.79457295e-05 1.98691253e+02 1.57796905e-04 2.63696336e-05\n",
            " 2.51801036e-05 9.06906763e-05 1.99647614e-07]\n",
            "Surplus (Q1-Q8): [2.99809797e+02 1.21800248e-04 3.91822113e-05 2.91591732e+02\n",
            " 7.93049551e+02 5.97014859e+02 6.05359963e-05 8.99999806e+02]\n"
          ]
        }
      ],
      "source": [
        "# IEOR 4007: Homework 1\n",
        "# Question 1\n",
        "\n",
        "import cvxpy as cvx\n",
        "\n",
        "# Variables\n",
        "l = cvx.Variable(1, nonneg=True)\n",
        "y = cvx.Variable(7, nonneg=True)\n",
        "x = cvx.Variable(8, nonneg=True)\n",
        "z = cvx.Variable(8, nonneg=True)\n",
        "\n",
        "# Interest rates compounded quarterly\n",
        "rl = 1.01**8   # Two-year loan interest rate\n",
        "rx = 1.025  # Quarterly loan interest rate\n",
        "ry = 1.018**2  # Six-month loan interest rate\n",
        "rf = 1.005  # Surplus investment interest rate\n",
        "\n",
        "# Cash flow\n",
        "c = [100, 500, 100, -600, -500, 200, 600, -900]\n",
        "\n",
        "# Constraints\n",
        "constraints = [l >= 0, x >= 0, y >= 0, z >= 0]\n",
        "\n",
        "for i in range(8):\n",
        "    con = []\n",
        "    if i == (0):\n",
        "        con += [l[i]]\n",
        "    if i < (8-2):\n",
        "        con += [y[i]]\n",
        "    if i >= (8-7):\n",
        "        con += [z[i-1]*rf]\n",
        "    if i >= (8-6):\n",
        "        con += [-y[i-2]*ry]\n",
        "    if i >= (8-7):\n",
        "        con += [-x[i-1]*rx]\n",
        "\n",
        "    con = con + [x[i]]\n",
        "    con = con + [-z[i]]\n",
        "    constraints = constraints + [sum(con) == c[i]]\n",
        "\n",
        "# Objective Function\n",
        "objective = cvx.Maximize(z[-1]*rf - l[-1]*rl - x[-1]*rx - y[-1]*ry)\n",
        "\n",
        "# Implement LP model\n",
        "problem = cvx.Problem(objective, constraints)\n",
        "problem.solve()\n",
        "\n",
        "# Display results\n",
        "if problem.status == cvx.OPTIMAL:\n",
        "    print(\"Optimal Values Found\")\n",
        "    print(\"Maximized Wealth (Q9):\", problem.solve())\n",
        "    print(\"long-term loan Value (Q1):\", l.value)\n",
        "    print(\"Quarterly loan Values (Q1-8):\", x.value)\n",
        "    print(\"Six-month loan Values (Q1-7):\", y.value)\n",
        "    print(\"Surplus (Q1-Q8):\", z.value)\n",
        "\n"
      ]
    }
  ]
}