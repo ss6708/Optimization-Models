{
  "nbformat": 4,
  "nbformat_minor": 0,
  "metadata": {
    "colab": {
      "provenance": []
    },
    "kernelspec": {
      "name": "python3",
      "display_name": "Python 3"
    },
    "language_info": {
      "name": "python"
    }
  },
  "cells": [
    {
      "cell_type": "code",
      "execution_count": 4,
      "metadata": {
        "colab": {
          "base_uri": "https://localhost:8080/"
        },
        "id": "BKcnFa3_jv_N",
        "outputId": "ac71af81-1239-4c97-b91c-073ef15f0015"
      },
      "outputs": [
        {
          "output_type": "stream",
          "name": "stdout",
          "text": [
            "Optimal Values Found\n",
            "x1 0.010470404732920473\n",
            "x2 0.9999999986863405\n",
            "x3 -0.9891696737907131\n"
          ]
        }
      ],
      "source": [
        "# IEOR 4007: Homework 1\n",
        "# Question 2\n",
        "\n",
        "# (a)\n",
        "\n",
        "import cvxpy as cvx\n",
        "\n",
        "# Define the decision variables\n",
        "x = cvx.Variable(3)\n",
        "\n",
        "# Constraints\n",
        "constraints = [103.4375 * x[0] + 2.75 * x[1] + 3.875 * x[2] >= 0,\n",
        "               102.75 * x[1] + 103.875 * x[2] >= 0,\n",
        "               x >= -1,\n",
        "               x <= 1]\n",
        "\n",
        "# Objective Function\n",
        "objective = cvx.Maximize(-101.625 * x[0] - 101.5625 * x[1] - 103.80 * x[2])\n",
        "\n",
        "# Solving\n",
        "problem = cvx.Problem(objective, constraints)\n",
        "problem.solve()\n",
        "\n",
        "if problem.status == cvx.OPTIMAL:\n",
        "    print(\"Optimal Values Found\")\n",
        "    print(\"x1\", x[0].value)\n",
        "    print(\"x2\", x[1].value)\n",
        "    print(\"x3\", x[2].value)\n",
        ""
      ]
    }
  ]
}